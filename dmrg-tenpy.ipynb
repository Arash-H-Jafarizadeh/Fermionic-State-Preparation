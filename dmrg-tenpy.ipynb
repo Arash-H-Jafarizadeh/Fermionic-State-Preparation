{
 "cells": [
  {
   "cell_type": "markdown",
   "metadata": {},
   "source": [
    "# DMRG code\n",
    "this is a dmrg to get the ground state energy from tenpy package "
   ]
  },
  {
   "cell_type": "code",
   "execution_count": 77,
   "metadata": {},
   "outputs": [],
   "source": [
    "import time as tt\n",
    "import numpy as np\n",
    "import scipy as sp\n",
    "import matplotlib.pyplot as plt\n",
    "import tenpy as tp\n",
    "# tp.tools.misc.setup_logging(to_stdout=\"INFO\")\n",
    "# from numba import njit, prange\n",
    "# from numba import njit, prange"
   ]
  },
  {
   "cell_type": "code",
   "execution_count": null,
   "metadata": {},
   "outputs": [
    {
     "name": "stdout",
     "output_type": "stream",
     "text": [
      "*********\n",
      "*********\n",
      "WARNING : c:\\Users\\ppzaj\\AppData\\Local\\anaconda3\\Lib\\site-packages\\tenpy\\tools\\params.py:232: UserWarning: unused option ['verbose'] for config TwoSiteDMRGEngine\n",
      "  warnings.warn(msg.format(keys=sorted(unused), name=self.name))\n",
      "\n",
      "\n",
      "\n",
      "ground state energy =  -9.765503957927175\n"
     ]
    }
   ],
   "source": [
    "\"Isisng model DMRG\"\n",
    "import logging\n",
    "logging.disable(logging.INFO)\n",
    "\n",
    "\n",
    "L = 10\n",
    "gg, jj = 0.5, 1.0\n",
    "model_params = {\n",
    "    'J': jj , 'g': gg,  # critical\n",
    "    'L': L,\n",
    "    'bc_x': 'open',\n",
    "    'bc_MPS': 'finite',\n",
    "}\n",
    "dmrg_params = {\n",
    "    'mixer': False,  # setting this to True helps to escape local minima\n",
    "    'max_E_err': 1.e-14,\n",
    "    'trunc_params': {\n",
    "        'chi_max': 100,\n",
    "        'svd_min': 1.e-14,\n",
    "    },\n",
    "    'verbose': True,\n",
    "    'combine': True,\n",
    "};\n",
    "M = tp.models.tf_ising.TFIChain(model_params)\n",
    "# print(\"*********\")\n",
    "# print( M.lat.pairs['nearest_neighbors'][0][1]  )\n",
    "# print(M.lat.)\n",
    "# print(\"*********\")\n",
    "psi = tp.networks.mps.MPS.from_lat_product_state(M.lat, [['up']])\n",
    "eng = tp.algorithms.dmrg.TwoSiteDMRGEngine(psi, M, dmrg_params);\n",
    "E, psi = eng.run();\n",
    "print(\"\")\n",
    "print(\"\")\n",
    "print(\"ground state energy = \", E)\n"
   ]
  },
  {
   "cell_type": "markdown",
   "metadata": {},
   "source": [
    "# the code that did NOT worked !!!"
   ]
  },
  {
   "cell_type": "code",
   "execution_count": null,
   "metadata": {},
   "outputs": [
    {
     "name": "stdout",
     "output_type": "stream",
     "text": [
      "WARNING : c:\\Users\\ppzaj\\AppData\\Local\\anaconda3\\Lib\\site-packages\\tenpy\\tools\\params.py:232: UserWarning: unused option ['bc_x'] for config XXZChain\n",
      "  warnings.warn(msg.format(keys=sorted(unused), name=self.name))\n",
      "\n"
     ]
    },
    {
     "ename": "AttributeError",
     "evalue": "'XXZChain' object has no attribute 'init_H_from_terms'",
     "output_type": "error",
     "traceback": [
      "\u001b[1;31m---------------------------------------------------------------------------\u001b[0m",
      "\u001b[1;31mAttributeError\u001b[0m                            Traceback (most recent call last)",
      "Cell \u001b[1;32mIn[179], line 29\u001b[0m\n\u001b[0;32m     24\u001b[0m M\u001b[38;5;241m.\u001b[39madd_onsite_term(\u001b[38;5;241m-\u001b[39mVv\u001b[38;5;241m/\u001b[39m\u001b[38;5;241m4\u001b[39m, L\u001b[38;5;241m-\u001b[39m\u001b[38;5;241m1\u001b[39m, \u001b[38;5;124m'\u001b[39m\u001b[38;5;124mSz\u001b[39m\u001b[38;5;124m'\u001b[39m)\n\u001b[0;32m     26\u001b[0m \u001b[38;5;66;03m# for indx in range(L):\u001b[39;00m\n\u001b[0;32m     27\u001b[0m \u001b[38;5;66;03m#     M.add_onsite_term(Vv/8, indx,'Id')\u001b[39;00m\n\u001b[1;32m---> 29\u001b[0m \u001b[43mM\u001b[49m\u001b[38;5;241;43m.\u001b[39;49m\u001b[43minit_H_from_terms\u001b[49m()\n\u001b[0;32m     32\u001b[0m psi \u001b[38;5;241m=\u001b[39m tp\u001b[38;5;241m.\u001b[39mnetworks\u001b[38;5;241m.\u001b[39mmps\u001b[38;5;241m.\u001b[39mMPS\u001b[38;5;241m.\u001b[39mfrom_lat_product_state(M\u001b[38;5;241m.\u001b[39mlat, [[\u001b[38;5;124m'\u001b[39m\u001b[38;5;124mup\u001b[39m\u001b[38;5;124m'\u001b[39m],[\u001b[38;5;124m'\u001b[39m\u001b[38;5;124mdown\u001b[39m\u001b[38;5;124m'\u001b[39m]])\n\u001b[0;32m     33\u001b[0m eng \u001b[38;5;241m=\u001b[39m tp\u001b[38;5;241m.\u001b[39malgorithms\u001b[38;5;241m.\u001b[39mdmrg\u001b[38;5;241m.\u001b[39mTwoSiteDMRGEngine(psi, M, dmrg_params);\n",
      "\u001b[1;31mAttributeError\u001b[0m: 'XXZChain' object has no attribute 'init_H_from_terms'"
     ]
    }
   ],
   "source": [
    "\n",
    "L = 10\n",
    "Vv, Jj = 0.3, 0.3\n",
    "model_paramss = {\n",
    "    'Jxx': -2*Jj , 'Jz': Vv/8, 'hz':-Vv/4,\n",
    "    'L': L,\n",
    "    'bc_x': 'open',\n",
    "    'bc_MPS': 'finite',\n",
    "}\n",
    "\n",
    "dmrg_params = {\n",
    "    'mixer': False,  # setting this to True helps to escape local minima\n",
    "    'max_E_err': 1.e-14,\n",
    "    'trunc_params': {\n",
    "        'chi_max': 100,\n",
    "        'svd_min': 1.e-14,\n",
    "    },\n",
    "    'verbose': True,\n",
    "    'combine': True,\n",
    "};\n",
    "\n",
    "\n",
    "M = tp.models.xxz_chain.XXZChain(model_paramss);\n",
    "# M.add_onsite_term(-Vv/4, 0, 'Sz')\n",
    "# M.add_onsite_term(-Vv/4, L-1, 'Sz')\n",
    "# for indx in range(L):\n",
    "#     M.add_onsite_term(Vv/8, indx,'Id')\n",
    "\n",
    "psi = tp.networks.mps.MPS.from_lat_product_state(M.lat, [['up'],['down']])\n",
    "eng = tp.algorithms.dmrg.TwoSiteDMRGEngine(psi, M, dmrg_params);\n",
    "E, psi = eng.run();\n",
    "print(\"\")\n",
    "print(\"\")\n",
    "print(\"ground state energy = \", E + Vv*(L-1)/8 )\n",
    "# print(\"constant energy = \", Vv*(L-1)/8 )\n",
    "Z = psi.expectation_value('Sz')\n",
    "print(\"total magnetization =\", np.sum(Z))"
   ]
  },
  {
   "cell_type": "code",
   "execution_count": 21,
   "metadata": {},
   "outputs": [
    {
     "name": "stdout",
     "output_type": "stream",
     "text": [
      "ground state energy =  -1.5104829700472446\n"
     ]
    }
   ],
   "source": [
    "print(\"ground state energy = \", E + Vv*(L-1)/8)\n",
    "# print(\"constant energy = \", Vv*(L-1)/8 )\n",
    "\n",
    "# Z = psi.expectation_value('Sz')\n",
    "# print(\"total magnetization =\", np.sum(Z))\n"
   ]
  },
  {
   "cell_type": "markdown",
   "metadata": {},
   "source": [
    "# the code that worked !!!!"
   ]
  },
  {
   "cell_type": "code",
   "execution_count": null,
   "metadata": {},
   "outputs": [
    {
     "name": "stdout",
     "output_type": "stream",
     "text": [
      "WARNING : C:\\Users\\ppzaj\\AppData\\Local\\Temp\\ipykernel_6956\\1896044634.py:28: UserWarning: Adding terms to the CouplingMPOModel after initialization. Make sure you call `init_H_from_terms` again! In that case, you can set `self.manually_call_init_H` to suppress this warning.\n",
      "  model.add_onsite_term(h_boundary, 0, \"Sz\") #left boundary\n",
      "\n",
      "WARNING : C:\\Users\\ppzaj\\AppData\\Local\\Temp\\ipykernel_6956\\1896044634.py:29: UserWarning: Adding terms to the CouplingMPOModel after initialization. Make sure you call `init_H_from_terms` again! In that case, you can set `self.manually_call_init_H` to suppress this warning.\n",
      "  model.add_onsite_term(h_boundary, L-1, \"Sz\") #right boundary\n",
      "\n",
      "WARNING : c:\\Users\\ppzaj\\AppData\\Local\\anaconda3\\Lib\\site-packages\\tenpy\\tools\\params.py:232: UserWarning: unused option ['verbose'] for config DMRG\n",
      "  warnings.warn(msg.format(keys=sorted(unused), name=self.name))\n",
      "\n",
      "DMRG results: -11.493536631155479\n",
      "DMRG + constant energy =  -10.643536631155479\n"
     ]
    }
   ],
   "source": [
    "import tenpy\n",
    "from tenpy.networks.site import SpinHalfSite\n",
    "from tenpy.models.spins import SpinModel #,SpinHalfSite\n",
    "from tenpy.algorithms import dmrg\n",
    "from tenpy.networks.mps import MPS\n",
    "import logging\n",
    "logging.disable(logging.INFO)\n",
    "\n",
    "\n",
    "L = 18  # Number of sites\n",
    "Jj = 1.0  \n",
    "V = 0.4  \n",
    "h_boundary = V/4 #boundary magnetic field strength.\n",
    "model_params = {\n",
    "    'S':0.5,\n",
    "    'Jx': 2*Jj, 'Jy': 2*Jj, 'Jz': V/2,\n",
    "    'hz': -V/1,\n",
    "    'L': L,\n",
    "    'conserve':'Sz',\n",
    "    'bc_x': 'open',\n",
    "    'bc_MPS': 'finite',\n",
    "}\n",
    "\n",
    "# Define the spin-1/2 site\n",
    "site = SpinHalfSite()\n",
    "\n",
    "# Create the spin model\n",
    "model = SpinModel(model_params)\n",
    "# Add boundary terms\n",
    "model.add_onsite_term(h_boundary, 0, \"Sz\") #left boundary\n",
    "model.add_onsite_term(h_boundary, L-1, \"Sz\") #right boundary\n",
    "model.init_H_from_terms()\n",
    "\n",
    "\n",
    "# Add Heisenberg interactions\n",
    "# model.add_coupling_term(J, 0, 1, \"Sz\", \"Sz\")\n",
    "# for i in range(L - 1):\n",
    "#     model.add_coupling_term(0.0*J, i, i + 1, \"Sx\", \"Sx\")\n",
    "#     model.add_coupling_term(0.0*J, i, i + 1, \"Sy\", \"Sy\")\n",
    "\n",
    "# Add on-site magnetic field\n",
    "# for i in range(L):\n",
    "#     model.add_onsite_term(V/9, i, \"Sz\")\n",
    "# model.init_H_from_terms()\n",
    "\n",
    "\n",
    "\n",
    "psi = tp.networks.mps.MPS.from_lat_product_state(model.lat, [['up'],['down']])\n",
    "\n",
    "\n",
    "# DMRG parameters\n",
    "dmrg_params = {\n",
    "    'mixer': False,  # setting this to True helps to escape local minima\n",
    "    'max_E_err': 1.e-16,\n",
    "    'trunc_params': {\n",
    "        'chi_max': 100,\n",
    "        'svd_min': 1.e-16,\n",
    "    },\n",
    "    'verbose': True,\n",
    "    'combine': True,\n",
    "};\n",
    "\n",
    "# Run DMRG\n",
    "results = dmrg.run(psi, model, dmrg_params)\n",
    "\n",
    "# Print results\n",
    "print(\"DMRG results:\", results['E'])\n",
    "print(\"DMRG + constant energy = \", results['E'] + V*(L-1)/8 )"
   ]
  },
  {
   "cell_type": "code",
   "execution_count": 65,
   "metadata": {},
   "outputs": [],
   "source": [
    "from tenpy.models.lattice import Site, Chain\n",
    "from tenpy.models.model import CouplingModel, NearestNeighborModel, MPOModel, CouplingMPOModel\n",
    "from tenpy.linalg import np_conserved as npc\n",
    "from tenpy.tools.params import asConfig\n",
    "from tenpy.networks.site import SpinHalfSite"
   ]
  },
  {
   "cell_type": "code",
   "execution_count": null,
   "metadata": {},
   "outputs": [],
   "source": [
    "class SpinFermionChain(CouplingMPOModel, NearestNeighborModel, MPOModel):\n",
    "    default_lattice = \"Chain\"\n",
    "    force_default_lattice = True\n",
    "\n",
    "    def init_sites(self, model_params):\n",
    "        sort_charge = model_params.get('sort_charge', True, bool)\n",
    "        return SpinHalfSite(conserve=None, sort_charge=sort_charge)  # use predefined Site\n",
    "\n",
    "    def init_terms(self, model_params):\n",
    "        # read out parameters\n",
    "        J = model_params.get('J', 1., 'real_or_array')\n",
    "        V = model_params.get('V', 1., 'real_or_array')\n",
    "        # Jzz = model_params.get('Jzz', 0., 'real_or_array')\n",
    "        # add terms\n",
    "        for u in range(len(self.lat.unit_cell)):\n",
    "            # print(\"**********************\")\n",
    "            # print(u,\",\",\",\",u)\n",
    "            # print(\"**********************\")\n",
    "            self.add_onsite(+V/4, u, 'Sz')\n",
    "            # self.add_onsite(-hx, u, 'Sx')\n",
    "        \n",
    "        self.add_onsite(-V/8, 0, 'Sz')\n",
    "        self.add_onsite(-V/8, len(self.lat.unit_cell)-1, 'Sz')\n",
    "        \n",
    "        # for u1, u2, dx in self.lat.pairs['nearest_neighbors']:\n",
    "        # for u1, u2, dx in self.lat.nearest_neighbors:\n",
    "        #     print(\"**********************\")\n",
    "        #     print(u1,\",\",u2,\",\",dx)\n",
    "        #     print(\"**********************\")\n",
    "        #     self.add_coupling(-J, u1, 'Sp', u2, 'Sm', dx)\n",
    "        #     self.add_coupling(-J, u1, 'Sm', u2, 'Sp', dx)\n",
    "        #     self.add_coupling(V/8, u1, 'Sz', u2, 'Sz', dx)\n",
    "            "
   ]
  },
  {
   "cell_type": "code",
   "execution_count": 116,
   "metadata": {},
   "outputs": [
    {
     "name": "stdout",
     "output_type": "stream",
     "text": [
      "INFO    : SpinFermionChain: reading 'bc_MPS'='finite'\n",
      "INFO    : SpinFermionChain: reading 'bc_x'='periodic'\n",
      "INFO    : SpinFermionChain: reading 'L'=8\n",
      "INFO    : SpinFermionChain: reading 'J'=-1.0\n",
      "INFO    : SpinFermionChain: reading 'V'=0.1\n"
     ]
    },
    {
     "ename": "IndexError",
     "evalue": "list index out of range",
     "output_type": "error",
     "traceback": [
      "\u001b[1;31m---------------------------------------------------------------------------\u001b[0m",
      "\u001b[1;31mIndexError\u001b[0m                                Traceback (most recent call last)",
      "Cell \u001b[1;32mIn[116], line 23\u001b[0m\n\u001b[0;32m      4\u001b[0m model_paramss \u001b[38;5;241m=\u001b[39m {\n\u001b[0;32m      5\u001b[0m     \u001b[38;5;124m'\u001b[39m\u001b[38;5;124mJ\u001b[39m\u001b[38;5;124m'\u001b[39m: \u001b[38;5;241m-\u001b[39m\u001b[38;5;241m1.0\u001b[39m , \u001b[38;5;124m'\u001b[39m\u001b[38;5;124mV\u001b[39m\u001b[38;5;124m'\u001b[39m: \u001b[38;5;241m0.1\u001b[39m,\n\u001b[0;32m      6\u001b[0m     \u001b[38;5;124m'\u001b[39m\u001b[38;5;124mL\u001b[39m\u001b[38;5;124m'\u001b[39m: L,\n\u001b[0;32m      7\u001b[0m     \u001b[38;5;124m'\u001b[39m\u001b[38;5;124mbc_x\u001b[39m\u001b[38;5;124m'\u001b[39m: \u001b[38;5;124m'\u001b[39m\u001b[38;5;124mperiodic\u001b[39m\u001b[38;5;124m'\u001b[39m,\n\u001b[0;32m      8\u001b[0m     \u001b[38;5;124m'\u001b[39m\u001b[38;5;124mbc_MPS\u001b[39m\u001b[38;5;124m'\u001b[39m: \u001b[38;5;124m'\u001b[39m\u001b[38;5;124mfinite\u001b[39m\u001b[38;5;124m'\u001b[39m,\n\u001b[0;32m      9\u001b[0m }\n\u001b[0;32m     11\u001b[0m dmrg_params \u001b[38;5;241m=\u001b[39m {\n\u001b[0;32m     12\u001b[0m     \u001b[38;5;124m'\u001b[39m\u001b[38;5;124mmixer\u001b[39m\u001b[38;5;124m'\u001b[39m: \u001b[38;5;28;01mTrue\u001b[39;00m,  \u001b[38;5;66;03m# setting this to True helps to escape local minima\u001b[39;00m\n\u001b[0;32m     13\u001b[0m     \u001b[38;5;124m'\u001b[39m\u001b[38;5;124mmax_E_err\u001b[39m\u001b[38;5;124m'\u001b[39m: \u001b[38;5;241m1.e-10\u001b[39m,\n\u001b[1;32m   (...)\u001b[0m\n\u001b[0;32m     19\u001b[0m     \u001b[38;5;124m'\u001b[39m\u001b[38;5;124mcombine\u001b[39m\u001b[38;5;124m'\u001b[39m: \u001b[38;5;28;01mTrue\u001b[39;00m,\n\u001b[0;32m     20\u001b[0m };\n\u001b[1;32m---> 23\u001b[0m M \u001b[38;5;241m=\u001b[39m \u001b[43mSpinFermionChain\u001b[49m\u001b[43m(\u001b[49m\u001b[43mmodel_paramss\u001b[49m\u001b[43m)\u001b[49m;\n\u001b[0;32m     24\u001b[0m psi \u001b[38;5;241m=\u001b[39m tp\u001b[38;5;241m.\u001b[39mnetworks\u001b[38;5;241m.\u001b[39mmps\u001b[38;5;241m.\u001b[39mMPS\u001b[38;5;241m.\u001b[39mfrom_lat_product_state(M\u001b[38;5;241m.\u001b[39mlat, [[\u001b[38;5;124m'\u001b[39m\u001b[38;5;124mup\u001b[39m\u001b[38;5;124m'\u001b[39m],[\u001b[38;5;124m'\u001b[39m\u001b[38;5;124mdown\u001b[39m\u001b[38;5;124m'\u001b[39m]])\n\u001b[0;32m     25\u001b[0m \u001b[38;5;66;03m# eng = tp.algorithms.dmrg.TwoSiteDMRGEngine(psi, M, dmrg_params);\u001b[39;00m\n\u001b[0;32m     26\u001b[0m \u001b[38;5;66;03m# E, psi = eng.run();\u001b[39;00m\n\u001b[0;32m     27\u001b[0m \n\u001b[0;32m     28\u001b[0m \n\u001b[0;32m     29\u001b[0m \u001b[38;5;66;03m# psi = tp.networks.mps.MPS.from_lat_product_state(M.lat, [['up'],['down']])\u001b[39;00m\n\u001b[0;32m     30\u001b[0m \u001b[38;5;66;03m# eng = tp.algorithms.dmrg.TwoSiteDMRGEngine(psi, M, dmrg_params);\u001b[39;00m\n",
      "File \u001b[1;32mc:\\Users\\ppzaj\\AppData\\Local\\anaconda3\\Lib\\site-packages\\tenpy\\models\\model.py:1832\u001b[0m, in \u001b[0;36mCouplingMPOModel.__init__\u001b[1;34m(self, model_params)\u001b[0m\n\u001b[0;32m   1830\u001b[0m CouplingModel\u001b[38;5;241m.\u001b[39m\u001b[38;5;21m__init__\u001b[39m(\u001b[38;5;28mself\u001b[39m, lat, explicit_plus_hc\u001b[38;5;241m=\u001b[39mexplicit_plus_hc)\n\u001b[0;32m   1831\u001b[0m \u001b[38;5;66;03m# 6) add terms of the Hamiltonian\u001b[39;00m\n\u001b[1;32m-> 1832\u001b[0m \u001b[38;5;28;43mself\u001b[39;49m\u001b[38;5;241;43m.\u001b[39;49m\u001b[43minit_terms\u001b[49m\u001b[43m(\u001b[49m\u001b[43mmodel_params\u001b[49m\u001b[43m)\u001b[49m\n\u001b[0;32m   1833\u001b[0m \u001b[38;5;66;03m# 7-8) initialize H_MPO, and H_bonds, if necessary\u001b[39;00m\n\u001b[0;32m   1834\u001b[0m \u001b[38;5;28mself\u001b[39m\u001b[38;5;241m.\u001b[39minit_H_from_terms()\n",
      "Cell \u001b[1;32mIn[115], line 23\u001b[0m, in \u001b[0;36mSpinFermionChain.init_terms\u001b[1;34m(self, model_params)\u001b[0m\n\u001b[0;32m     20\u001b[0m     \u001b[38;5;66;03m# self.add_onsite(-hx, u, 'Sx')\u001b[39;00m\n\u001b[0;32m     22\u001b[0m \u001b[38;5;28mself\u001b[39m\u001b[38;5;241m.\u001b[39madd_onsite(\u001b[38;5;241m-\u001b[39mV\u001b[38;5;241m/\u001b[39m\u001b[38;5;241m8\u001b[39m, \u001b[38;5;241m0\u001b[39m, \u001b[38;5;124m'\u001b[39m\u001b[38;5;124mSz\u001b[39m\u001b[38;5;124m'\u001b[39m)\n\u001b[1;32m---> 23\u001b[0m \u001b[38;5;28;43mself\u001b[39;49m\u001b[38;5;241;43m.\u001b[39;49m\u001b[43madd_onsite\u001b[49m\u001b[43m(\u001b[49m\u001b[38;5;241;43m-\u001b[39;49m\u001b[43mV\u001b[49m\u001b[38;5;241;43m/\u001b[39;49m\u001b[38;5;241;43m8\u001b[39;49m\u001b[43m,\u001b[49m\u001b[43mL\u001b[49m\u001b[38;5;241;43m-\u001b[39;49m\u001b[38;5;241;43m1\u001b[39;49m\u001b[43m,\u001b[49m\u001b[43m \u001b[49m\u001b[38;5;124;43m'\u001b[39;49m\u001b[38;5;124;43mSz\u001b[39;49m\u001b[38;5;124;43m'\u001b[39;49m\u001b[43m)\u001b[49m\n",
      "File \u001b[1;32mc:\\Users\\ppzaj\\AppData\\Local\\anaconda3\\Lib\\site-packages\\tenpy\\models\\model.py:1745\u001b[0m, in \u001b[0;36m_warn_post_init_add.<locals>.add_term_function\u001b[1;34m(self, *args, **kwargs)\u001b[0m\n\u001b[0;32m   1743\u001b[0m \u001b[38;5;129m@wraps\u001b[39m(f)\n\u001b[0;32m   1744\u001b[0m \u001b[38;5;28;01mdef\u001b[39;00m \u001b[38;5;21madd_term_function\u001b[39m(\u001b[38;5;28mself\u001b[39m, \u001b[38;5;241m*\u001b[39margs, \u001b[38;5;241m*\u001b[39m\u001b[38;5;241m*\u001b[39mkwargs):\n\u001b[1;32m-> 1745\u001b[0m     res \u001b[38;5;241m=\u001b[39m \u001b[43mf\u001b[49m\u001b[43m(\u001b[49m\u001b[38;5;28;43mself\u001b[39;49m\u001b[43m,\u001b[49m\u001b[43m \u001b[49m\u001b[38;5;241;43m*\u001b[39;49m\u001b[43margs\u001b[49m\u001b[43m,\u001b[49m\u001b[43m \u001b[49m\u001b[38;5;241;43m*\u001b[39;49m\u001b[38;5;241;43m*\u001b[39;49m\u001b[43mkwargs\u001b[49m\u001b[43m)\u001b[49m\n\u001b[0;32m   1746\u001b[0m     \u001b[38;5;28;01mif\u001b[39;00m \u001b[38;5;28mhasattr\u001b[39m(\u001b[38;5;28mself\u001b[39m, \u001b[38;5;124m'\u001b[39m\u001b[38;5;124mH_MPO\u001b[39m\u001b[38;5;124m'\u001b[39m) \u001b[38;5;129;01mand\u001b[39;00m \u001b[38;5;129;01mnot\u001b[39;00m \u001b[38;5;28mgetattr\u001b[39m(\u001b[38;5;28mself\u001b[39m, \u001b[38;5;124m'\u001b[39m\u001b[38;5;124mmanually_call_init_H\u001b[39m\u001b[38;5;124m'\u001b[39m, \u001b[38;5;28;01mFalse\u001b[39;00m):\n\u001b[0;32m   1747\u001b[0m         warnings\u001b[38;5;241m.\u001b[39mwarn(\n\u001b[0;32m   1748\u001b[0m             \u001b[38;5;124m\"\u001b[39m\u001b[38;5;124mAdding terms to the CouplingMPOModel after initialization. \u001b[39m\u001b[38;5;124m\"\u001b[39m\n\u001b[0;32m   1749\u001b[0m             \u001b[38;5;124m\"\u001b[39m\u001b[38;5;124mMake sure you call `init_H_from_terms` again! \u001b[39m\u001b[38;5;124m\"\u001b[39m\n\u001b[0;32m   1750\u001b[0m             \u001b[38;5;124m\"\u001b[39m\u001b[38;5;124mIn that case, you can set `self.manually_call_init_H` to suppress this warning.\u001b[39m\u001b[38;5;124m\"\u001b[39m,\n\u001b[0;32m   1751\u001b[0m             \u001b[38;5;167;01mUserWarning\u001b[39;00m, \u001b[38;5;241m2\u001b[39m)\n",
      "File \u001b[1;32mc:\\Users\\ppzaj\\AppData\\Local\\anaconda3\\Lib\\site-packages\\tenpy\\models\\model.py:962\u001b[0m, in \u001b[0;36mCouplingModel.add_onsite\u001b[1;34m(self, strength, u, opname, category, plus_hc)\u001b[0m\n\u001b[0;32m    960\u001b[0m     \u001b[38;5;28;01melse\u001b[39;00m:\n\u001b[0;32m    961\u001b[0m         strength \u001b[38;5;241m/\u001b[39m\u001b[38;5;241m=\u001b[39m \u001b[38;5;241m2\u001b[39m  \u001b[38;5;66;03m# avoid double-counting this term: add the h.c. explicitly later on\u001b[39;00m\n\u001b[1;32m--> 962\u001b[0m \u001b[38;5;28;01mif\u001b[39;00m \u001b[38;5;129;01mnot\u001b[39;00m \u001b[38;5;28;43mself\u001b[39;49m\u001b[38;5;241;43m.\u001b[39;49m\u001b[43mlat\u001b[49m\u001b[38;5;241;43m.\u001b[39;49m\u001b[43munit_cell\u001b[49m\u001b[43m[\u001b[49m\u001b[43mu\u001b[49m\u001b[43m]\u001b[49m\u001b[38;5;241m.\u001b[39mvalid_opname(opname):\n\u001b[0;32m    963\u001b[0m     \u001b[38;5;28;01mraise\u001b[39;00m \u001b[38;5;167;01mValueError\u001b[39;00m(\u001b[38;5;124m\"\u001b[39m\u001b[38;5;124munknown onsite operator \u001b[39m\u001b[38;5;132;01m{0!r}\u001b[39;00m\u001b[38;5;124m for u=\u001b[39m\u001b[38;5;132;01m{1:d}\u001b[39;00m\u001b[38;5;130;01m\\n\u001b[39;00m\u001b[38;5;124m\"\u001b[39m\n\u001b[0;32m    964\u001b[0m                      \u001b[38;5;124m\"\u001b[39m\u001b[38;5;132;01m{2!r}\u001b[39;00m\u001b[38;5;124m\"\u001b[39m\u001b[38;5;241m.\u001b[39mformat(opname, u, \u001b[38;5;28mself\u001b[39m\u001b[38;5;241m.\u001b[39mlat\u001b[38;5;241m.\u001b[39munit_cell[u]))\n\u001b[0;32m    965\u001b[0m \u001b[38;5;28;01mif\u001b[39;00m \u001b[38;5;28mself\u001b[39m\u001b[38;5;241m.\u001b[39mlat\u001b[38;5;241m.\u001b[39munit_cell[u]\u001b[38;5;241m.\u001b[39mop_needs_JW(opname):\n",
      "\u001b[1;31mIndexError\u001b[0m: list index out of range"
     ]
    }
   ],
   "source": [
    "L = 8\n",
    "Vv, Jj = 0.3, 1.0\n",
    "\n",
    "model_paramss = {\n",
    "    'J': -1.0 , 'V': 0.1,\n",
    "    'L': L,\n",
    "    'bc_x': 'periodic',\n",
    "    'bc_MPS': 'finite',\n",
    "}\n",
    "\n",
    "dmrg_params = {\n",
    "    'mixer': True,  # setting this to True helps to escape local minima\n",
    "    'max_E_err': 1.e-10,\n",
    "    'trunc_params': {\n",
    "        'chi_max': 100,\n",
    "        'svd_min': 1.e-10,\n",
    "    },\n",
    "    # 'verbose': True,\n",
    "    'combine': True,\n",
    "};\n",
    "\n",
    "\n",
    "M = SpinFermionChain(model_paramss);\n",
    "psi = tp.networks.mps.MPS.from_lat_product_state(M.lat, [['up'],['down']])\n",
    "# eng = tp.algorithms.dmrg.TwoSiteDMRGEngine(psi, M, dmrg_params);\n",
    "# E, psi = eng.run();\n",
    "\n",
    "\n",
    "# psi = tp.networks.mps.MPS.from_lat_product_state(M.lat, [['up'],['down']])\n",
    "# eng = tp.algorithms.dmrg.TwoSiteDMRGEngine(psi, M, dmrg_params);"
   ]
  }
 ],
 "metadata": {
  "kernelspec": {
   "display_name": "base",
   "language": "python",
   "name": "python3"
  },
  "language_info": {
   "codemirror_mode": {
    "name": "ipython",
    "version": 3
   },
   "file_extension": ".py",
   "mimetype": "text/x-python",
   "name": "python",
   "nbconvert_exporter": "python",
   "pygments_lexer": "ipython3",
   "version": "3.11.5"
  }
 },
 "nbformat": 4,
 "nbformat_minor": 2
}
